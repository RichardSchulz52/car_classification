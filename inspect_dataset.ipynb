{
 "cells": [
  {
   "cell_type": "code",
   "execution_count": null,
   "id": "initial_id",
   "metadata": {
    "ExecuteTime": {
     "end_time": "2024-01-17T08:53:31.640404800Z",
     "start_time": "2024-01-17T08:53:30.092304700Z"
    },
    "collapsed": true
   },
   "outputs": [],
   "source": [
    "import sqlite3\n",
    "from typing import List\n",
    "\n",
    "import pandas as pd\n",
    "\n",
    "db_file = \"kl_cars.db\"\n",
    "\n",
    "con = sqlite3.connect(db_file)\n",
    "cur = con.cursor()"
   ]
  },
  {
   "cell_type": "code",
   "execution_count": null,
   "id": "9d0d36bc100ed08b",
   "metadata": {
    "ExecuteTime": {
     "end_time": "2024-01-17T08:53:37.840767900Z",
     "start_time": "2024-01-17T08:53:37.457509Z"
    },
    "collapsed": false
   },
   "outputs": [],
   "source": [
    "data = pd.read_sql(\"select * from car\", con)"
   ]
  },
  {
   "cell_type": "markdown",
   "id": "aa4be62c1744bde5",
   "metadata": {
    "collapsed": false
   },
   "source": [
    "# Data count per class "
   ]
  },
  {
   "cell_type": "code",
   "execution_count": null,
   "id": "f97670bfcc434c60",
   "metadata": {
    "ExecuteTime": {
     "end_time": "2024-01-17T09:23:36.168518100Z",
     "start_time": "2024-01-17T09:23:36.001406200Z"
    },
    "collapsed": false
   },
   "outputs": [],
   "source": [
    "data['model'] = data['model'].apply(lambda x: '' if x.__contains__(\" km\") else x)\n",
    "classes = data[['brand', 'model']].apply(lambda row: ' - '.join(row.values.astype(str)), axis=1)\n",
    "class_count = classes.value_counts()\n",
    "insufficient_class_counts = class_count[class_count < 100]\n",
    "print(f\"Number of Images {len(classes)}\")\n",
    "print(f\"Number of Classes {len(class_count)}\")\n",
    "print(f\"Mean number of Images per Classes {class_count.mean()}\")\n",
    "print(f\"Number of classes with more than 100 images {len(class_count) - len(insufficient_class_counts)}\")\n",
    "print(f\"Number of classes with less than 100 images {len(insufficient_class_counts)}\")\n",
    "print(f\"Number of classes with less than 10 images {len(class_count[class_count < 10])}\")"
   ]
  },
  {
   "cell_type": "code",
   "execution_count": null,
   "id": "dcca579b32c2d8ba",
   "metadata": {
    "ExecuteTime": {
     "end_time": "2024-01-17T08:53:46.539282600Z",
     "start_time": "2024-01-17T08:53:46.502480800Z"
    },
    "collapsed": false
   },
   "outputs": [],
   "source": [
    "insufficient_class_counts = class_count[class_count < 100]\n",
    "insufficient_class_counts"
   ]
  },
  {
   "cell_type": "code",
   "execution_count": null,
   "id": "d6372cddada90011",
   "metadata": {
    "ExecuteTime": {
     "end_time": "2024-01-15T13:06:26.191857900Z",
     "start_time": "2024-01-15T13:06:26.023134Z"
    },
    "collapsed": false
   },
   "outputs": [],
   "source": [
    "print(f\"Anzahl an nicht zugeordneten Marken: {len(data[data['brand'] == 'Weitere Automarken'])}\")"
   ]
  },
  {
   "cell_type": "markdown",
   "id": "2e945853",
   "metadata": {},
   "source": [
    "## Display images in a class"
   ]
  },
  {
   "cell_type": "code",
   "execution_count": null,
   "id": "9ae765ef9f6adf63",
   "metadata": {
    "ExecuteTime": {
     "end_time": "2024-01-15T12:37:31.408396200Z",
     "start_time": "2024-01-15T12:37:30.092019100Z"
    },
    "collapsed": false
   },
   "outputs": [],
   "source": [
    "from PIL import Image\n",
    "from io import BytesIO\n",
    "from IPython.display import display\n",
    "from ipywidgets import interact, widgets\n",
    "\n",
    "\n",
    "def show_examples(brand, model):\n",
    "    examples = data[(data['brand'] == brand) & (data['model'] == model)]\n",
    "    return [Image.open(BytesIO(img)) for img in examples['image'][:]]\n",
    "\n",
    "from matplotlib import pyplot\n",
    "images = show_examples('Audi', 'A5')\n",
    "\n",
    "def display_image(image_index):\n",
    "    if 0 <= image_index < len(images):\n",
    "        display(images[image_index])\n",
    "    else:\n",
    "        print(\"Invalid index.\")\n",
    "\n",
    "image_slider = widgets.IntSlider(min=0, max=len(images)-1, step=1, value=0, description='Image Index')\n",
    "interact(display_image, image_index=image_slider)"
   ]
  },
  {
   "cell_type": "code",
   "execution_count": null,
   "id": "c1f7249632903c9e",
   "metadata": {
    "ExecuteTime": {
     "end_time": "2024-01-17T08:57:20.095538100Z",
     "start_time": "2024-01-17T08:57:19.931519200Z"
    },
    "collapsed": false
   },
   "outputs": [],
   "source": [
    "class_count"
   ]
  },
  {
   "cell_type": "code",
   "execution_count": null,
   "id": "29e420a360207787",
   "metadata": {
    "ExecuteTime": {
     "end_time": "2024-01-17T08:57:05.765871300Z",
     "start_time": "2024-01-17T08:57:05.758164Z"
    },
    "collapsed": false
   },
   "outputs": [],
   "source": [
    "con.close()"
   ]
  },
  {
   "cell_type": "code",
   "execution_count": null,
   "id": "32994d9d4642e2da",
   "metadata": {
    "collapsed": false
   },
   "outputs": [],
   "source": []
  }
 ],
 "metadata": {
  "kernelspec": {
   "display_name": "crawl3",
   "language": "python",
   "name": "python3"
  },
  "language_info": {
   "codemirror_mode": {
    "name": "ipython",
    "version": 3
   },
   "file_extension": ".py",
   "mimetype": "text/x-python",
   "name": "python",
   "nbconvert_exporter": "python",
   "pygments_lexer": "ipython3",
   "version": "3.12.1"
  }
 },
 "nbformat": 4,
 "nbformat_minor": 5
}
