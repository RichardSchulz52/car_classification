{
 "cells": [
  {
   "cell_type": "code",
   "execution_count": 1,
   "id": "initial_id",
   "metadata": {
    "ExecuteTime": {
     "end_time": "2024-01-17T08:53:31.640404800Z",
     "start_time": "2024-01-17T08:53:30.092304700Z"
    },
    "collapsed": true
   },
   "outputs": [],
   "source": [
    "import sqlite3\n",
    "from typing import List\n",
    "\n",
    "import pandas as pd\n",
    "\n",
    "db_file = \"kl_cars.db\"\n",
    "\n",
    "con = sqlite3.connect(db_file)\n",
    "cur = con.cursor()"
   ]
  },
  {
   "cell_type": "code",
   "execution_count": 2,
   "id": "9d0d36bc100ed08b",
   "metadata": {
    "ExecuteTime": {
     "end_time": "2024-01-17T08:53:37.840767900Z",
     "start_time": "2024-01-17T08:53:37.457509Z"
    },
    "collapsed": false
   },
   "outputs": [],
   "source": [
    "data = pd.read_sql(\"select * from car\", con)"
   ]
  },
  {
   "cell_type": "markdown",
   "id": "aa4be62c1744bde5",
   "metadata": {
    "collapsed": false
   },
   "source": [
    "# Datenanzahl pro Klasse "
   ]
  },
  {
   "cell_type": "code",
   "execution_count": 9,
   "id": "f97670bfcc434c60",
   "metadata": {
    "ExecuteTime": {
     "end_time": "2024-01-17T09:23:36.168518100Z",
     "start_time": "2024-01-17T09:23:36.001406200Z"
    },
    "collapsed": false
   },
   "outputs": [
    {
     "name": "stdout",
     "output_type": "stream",
     "text": [
      "Number of Images 13782\n",
      "Number of Classes 615\n",
      "Mean number of Images per Classes 22.409756097560976\n",
      "Number of classes with more than 100 images 31\n",
      "Number of classes with less than 100 images 584\n",
      "Number of classes with less than 10 images 414\n"
     ]
    }
   ],
   "source": [
    "data['model'] = data['model'].apply(lambda x: '' if x.__contains__(\" km\") else x)\n",
    "classes = data[['brand', 'model']].apply(lambda row: ' - '.join(row.values.astype(str)), axis=1)\n",
    "class_count = classes.value_counts()\n",
    "insufficient_class_counts = class_count[class_count < 100]\n",
    "print(f\"Number of Images {len(classes)}\")\n",
    "print(f\"Number of Classes {len(class_count)}\")\n",
    "print(f\"Mean number of Images per Classes {class_count.mean()}\")\n",
    "print(f\"Number of classes with more than 100 images {len(class_count) - len(insufficient_class_counts)}\")\n",
    "print(f\"Number of classes with less than 100 images {len(insufficient_class_counts)}\")\n",
    "print(f\"Number of classes with less than 10 images {len(class_count[class_count < 10])}\")"
   ]
  },
  {
   "cell_type": "code",
   "execution_count": 4,
   "id": "dcca579b32c2d8ba",
   "metadata": {
    "ExecuteTime": {
     "end_time": "2024-01-17T08:53:46.539282600Z",
     "start_time": "2024-01-17T08:53:46.502480800Z"
    },
    "collapsed": false
   },
   "outputs": [
    {
     "data": {
      "text/plain": [
       "Renault - Clio               98\n",
       "Seat - Ibiza                 96\n",
       "Volkswagen - Caddy           91\n",
       "Ford - Transit               86\n",
       "Audi - A5                    82\n",
       "                             ..\n",
       "Mercedes Benz - CE-Klasse     1\n",
       "Lancia - Thema                1\n",
       "Nissan - Weitere Nissan       1\n",
       "Toyota - Celica               1\n",
       "Peugeot - 6er Reihe           1\n",
       "Name: count, Length: 584, dtype: int64"
      ]
     },
     "execution_count": 4,
     "metadata": {},
     "output_type": "execute_result"
    }
   ],
   "source": [
    "insufficient_class_counts = class_count[class_count < 100]\n",
    "insufficient_class_counts"
   ]
  },
  {
   "cell_type": "code",
   "execution_count": 73,
   "id": "d6372cddada90011",
   "metadata": {
    "ExecuteTime": {
     "end_time": "2024-01-15T13:06:26.191857900Z",
     "start_time": "2024-01-15T13:06:26.023134Z"
    },
    "collapsed": false
   },
   "outputs": [
    {
     "name": "stdout",
     "output_type": "stream",
     "text": [
      "Anzahl an nicht zugeordneten Marken: 126\n"
     ]
    }
   ],
   "source": [
    "print(f\"Anzahl an nicht zugeordneten Marken: {len(data[data['brand'] == 'Weitere Automarken'])}\")"
   ]
  },
  {
   "cell_type": "code",
   "execution_count": 1,
   "id": "9ae765ef9f6adf63",
   "metadata": {
    "ExecuteTime": {
     "end_time": "2024-01-15T12:37:31.408396200Z",
     "start_time": "2024-01-15T12:37:30.092019100Z"
    },
    "collapsed": false
   },
   "outputs": [
    {
     "ename": "ModuleNotFoundError",
     "evalue": "No module named 'ipywidgets'",
     "output_type": "error",
     "traceback": [
      "\u001b[1;31m---------------------------------------------------------------------------\u001b[0m",
      "\u001b[1;31mModuleNotFoundError\u001b[0m                       Traceback (most recent call last)",
      "Cell \u001b[1;32mIn[1], line 4\u001b[0m\n\u001b[0;32m      2\u001b[0m \u001b[38;5;28;01mfrom\u001b[39;00m \u001b[38;5;21;01mio\u001b[39;00m \u001b[38;5;28;01mimport\u001b[39;00m BytesIO\n\u001b[0;32m      3\u001b[0m \u001b[38;5;28;01mfrom\u001b[39;00m \u001b[38;5;21;01mIPython\u001b[39;00m\u001b[38;5;21;01m.\u001b[39;00m\u001b[38;5;21;01mdisplay\u001b[39;00m \u001b[38;5;28;01mimport\u001b[39;00m display, Image\n\u001b[1;32m----> 4\u001b[0m \u001b[38;5;28;01mfrom\u001b[39;00m \u001b[38;5;21;01mipywidgets\u001b[39;00m \u001b[38;5;28;01mimport\u001b[39;00m interact, widgets\n\u001b[0;32m      7\u001b[0m \u001b[38;5;28;01mdef\u001b[39;00m \u001b[38;5;21mshow_examples\u001b[39m(brand, model):\n\u001b[0;32m      8\u001b[0m     examples \u001b[38;5;241m=\u001b[39m data[(data[\u001b[38;5;124m'\u001b[39m\u001b[38;5;124mbrand\u001b[39m\u001b[38;5;124m'\u001b[39m] \u001b[38;5;241m==\u001b[39m brand) \u001b[38;5;241m&\u001b[39m (data[\u001b[38;5;124m'\u001b[39m\u001b[38;5;124mmodel\u001b[39m\u001b[38;5;124m'\u001b[39m] \u001b[38;5;241m==\u001b[39m model)]\n",
      "\u001b[1;31mModuleNotFoundError\u001b[0m: No module named 'ipywidgets'"
     ]
    }
   ],
   "source": [
    "from PIL import Image\n",
    "from io import BytesIO\n",
    "from IPython.display import display, Image\n",
    "from ipywidgets import interact, widgets\n",
    "\n",
    "\n",
    "def show_examples(brand, model):\n",
    "    examples = data[(data['brand'] == brand) & (data['model'] == model)]\n",
    "    return [Image.open(BytesIO(img)) for img in examples['image'][:10]]\n",
    "\n",
    "from matplotlib import pyplot\n",
    "images = show_examples('Volkswagen', 'Golf')\n",
    "\n",
    "def display_image(image_index):\n",
    "    if 0 <= image_index < len(images):\n",
    "        display(images[image_index])\n",
    "    else:\n",
    "        print(\"Invalid index.\")\n",
    "\n",
    "# Create a slider for selecting the image index\n",
    "image_slider = widgets.IntSlider(min=0, max=len(images)-1, step=1, value=0, description='Image Index')\n",
    "\n",
    "# Use interact to connect the slider to the display function\n",
    "interact(display_image, image_index=image_slider)"
   ]
  },
  {
   "cell_type": "code",
   "execution_count": 8,
   "id": "c1f7249632903c9e",
   "metadata": {
    "ExecuteTime": {
     "end_time": "2024-01-17T08:57:20.095538100Z",
     "start_time": "2024-01-17T08:57:19.931519200Z"
    },
    "collapsed": false
   },
   "outputs": [
    {
     "data": {
      "text/plain": [
       "Volkswagen - Golf            995\n",
       "BMW - 3er                    600\n",
       "Mercedes Benz - C-Klasse     401\n",
       "BMW - 5er                    362\n",
       "Volkswagen - Polo            344\n",
       "                            ... \n",
       "Mercedes Benz - CE-Klasse      1\n",
       "Lancia - Thema                 1\n",
       "Nissan - Weitere Nissan        1\n",
       "Toyota - Celica                1\n",
       "Peugeot - 6er Reihe            1\n",
       "Name: count, Length: 615, dtype: int64"
      ]
     },
     "execution_count": 8,
     "metadata": {},
     "output_type": "execute_result"
    }
   ],
   "source": [
    "class_count"
   ]
  },
  {
   "cell_type": "code",
   "execution_count": 7,
   "id": "29e420a360207787",
   "metadata": {
    "ExecuteTime": {
     "end_time": "2024-01-17T08:57:05.765871300Z",
     "start_time": "2024-01-17T08:57:05.758164Z"
    },
    "collapsed": false
   },
   "outputs": [],
   "source": [
    "con.close()"
   ]
  },
  {
   "cell_type": "code",
   "execution_count": null,
   "id": "32994d9d4642e2da",
   "metadata": {
    "collapsed": false
   },
   "outputs": [],
   "source": []
  }
 ],
 "metadata": {
  "kernelspec": {
   "display_name": "crawl3",
   "language": "python",
   "name": "python3"
  },
  "language_info": {
   "codemirror_mode": {
    "name": "ipython",
    "version": 3
   },
   "file_extension": ".py",
   "mimetype": "text/x-python",
   "name": "python",
   "nbconvert_exporter": "python",
   "pygments_lexer": "ipython3",
   "version": "3.12.1"
  }
 },
 "nbformat": 4,
 "nbformat_minor": 5
}
